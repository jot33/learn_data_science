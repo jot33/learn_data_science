{
 "cells": [
  {
   "cell_type": "markdown",
   "metadata": {},
   "source": [
    "# AMATH 301 - HW1\n",
    "University of Washington\\\n",
    "Due 10/6/2021"
   ]
  },
  {
   "cell_type": "code",
   "execution_count": 1,
   "metadata": {},
   "outputs": [],
   "source": [
    "# Import Block\n",
    "import numpy as np\n",
    "import sympy as sp\n",
    "sp.init_printing() # for pretty print with LaTeX/Mathjax"
   ]
  },
  {
   "cell_type": "markdown",
   "metadata": {},
   "source": [
    "## Part 1"
   ]
  },
  {
   "cell_type": "code",
   "execution_count": 2,
   "metadata": {},
   "outputs": [],
   "source": [
    "# Define absolute error function that takes initial value as input\n",
    "def abserr(x):\n",
    "    for j in range(0,x*10):\n",
    "        x = x - 0.1\n",
    "    return abs(0 - x)\n",
    "\n",
    "# Answers\n",
    "A1 = abserr(1000)\n",
    "A2 = abserr(10000)\n",
    "A3 = abserr(100000)\n",
    "\n",
    "# Debug displays below (comment/uncomment blocks for debug)\n",
    "\n",
    "# display(A1)\n",
    "# display(A2)\n",
    "# display(A3)"
   ]
  },
  {
   "cell_type": "markdown",
   "metadata": {},
   "source": [
    "## Part 2"
   ]
  },
  {
   "cell_type": "code",
   "execution_count": 5,
   "metadata": {},
   "outputs": [
    {
     "data": {
      "text/latex": [
       "$\\displaystyle \\left[\\begin{matrix}4 & 0 & -6\\\\0 & 0 & -2\\end{matrix}\\right]$"
      ],
      "text/plain": [
       "⎡4  0  -6⎤\n",
       "⎢        ⎥\n",
       "⎣0  0  -2⎦"
      ]
     },
     "metadata": {},
     "output_type": "display_data"
    },
    {
     "data": {
      "text/latex": [
       "$\\displaystyle \\left[\\begin{matrix}5 & 4\\\\1 & 0\\end{matrix}\\right]$"
      ],
      "text/plain": [
       "⎡5  4⎤\n",
       "⎢    ⎥\n",
       "⎣1  0⎦"
      ]
     },
     "metadata": {},
     "output_type": "display_data"
    }
   ],
   "source": [
    "# Define matrices\n",
    "A = np.matrix([[1,2],[-1,1]])\n",
    "B = np.eye(2).astype(int)*2\n",
    "C = np.matrix([[2,0,-3],[0,0,-1]])\n",
    "D = np.matrix([[1,2],[2,3],[-1,0]])\n",
    "x = np.matrix([[1],[0]])\n",
    "y = np.matrix([[0],[1]])\n",
    "z = D[:,0]\n",
    "\n",
    "# Answers\n",
    "# using numpy.dot() avoids value error from dimensions when multiplying\n",
    "A4 = A + B\n",
    "A5 = 3*x - 4*y\n",
    "A6 = A.dot(x)\n",
    "A7 = B.dot(x-y)\n",
    "A8 = D.dot(x)\n",
    "A9 = D.dot(y) + z\n",
    "A10 = A.dot(B)\n",
    "A11 = B.dot(C)\n",
    "A12 = C.dot(D)\n",
    "\n",
    "# Debug displays below (comment/uncomment blocks for debug)\n",
    "\n",
    "# display(sp.Matrix(A4))\n",
    "# display(sp.Matrix(A5))\n",
    "# display(sp.Matrix(A6))\n",
    "# display(sp.Matrix(A7))\n",
    "# display(sp.Matrix(A8))\n",
    "# display(sp.Matrix(A9))\n",
    "# display(sp.Matrix(A10))\n",
    "display(sp.Matrix(A11))\n",
    "display(sp.Matrix(A12))"
   ]
  },
  {
   "cell_type": "markdown",
   "metadata": {},
   "source": [
    "## Part 3"
   ]
  },
  {
   "cell_type": "code",
   "execution_count": null,
   "metadata": {},
   "outputs": [],
   "source": [
    "# Define parameters\n",
    "\n",
    "p = [0.8,1.5,2.8,3.2,3.5,3.65]\n",
    "Aarray = np.matrix(np.ones(6)*0.5)\n",
    "\n",
    "# Loop through arrays\n",
    "for j in range(2,51):\n",
    "#     i = np.insert(i,len(i),j,axis=0)\n",
    "    Aarray = np.insert(Aarray,len(Aarray),np.zeros(len(p)),axis=0)\n",
    "    for k in range(len(p)):\n",
    "        xn = Aarray[len(Aarray)-2,k]\n",
    "        Aarray[len(Aarray)-1,k] = p[k]*xn*(1-xn)\n",
    "\n",
    "# Full array for debugging (Comment/uncomment below for debug)\n",
    "\n",
    "# i = np.matrix(range(1,51)).reshape(50,1) # iterations\n",
    "# labels = sp.Matrix([[\"x\", \"A13(x)\", \"A14(x)\", \"A15(x)\", \"A16(x)\", \"A17(x)\", \"A18(x)\"]])\n",
    "# Part3 = labels.row_insert(1,sp.Matrix(np.append(i,Aarray,axis=1)))\n",
    "# display(Part3)"
   ]
  },
  {
   "cell_type": "code",
   "execution_count": null,
   "metadata": {},
   "outputs": [],
   "source": [
    "# Part 3 Answers\n",
    "A13 = Aarray[:,0]\n",
    "A14 = Aarray[:,1]\n",
    "A15 = Aarray[:,2]\n",
    "A16 = Aarray[:,3]\n",
    "A17 = Aarray[:,4]\n",
    "A18 = Aarray[:,5]\n",
    "\n",
    "# Debug display (comment/uncomment below for debug)\n",
    "\n",
    "# display(sp.Matrix(A13))"
   ]
  }
 ],
 "metadata": {
  "kernelspec": {
   "display_name": "Python 3 (ipykernel)",
   "language": "python",
   "name": "python3"
  },
  "language_info": {
   "codemirror_mode": {
    "name": "ipython",
    "version": 3
   },
   "file_extension": ".py",
   "mimetype": "text/x-python",
   "name": "python",
   "nbconvert_exporter": "python",
   "pygments_lexer": "ipython3",
   "version": "3.8.10"
  },
  "widgets": {
   "application/vnd.jupyter.widget-state+json": {
    "state": {},
    "version_major": 2,
    "version_minor": 0
   }
  }
 },
 "nbformat": 4,
 "nbformat_minor": 4
}
