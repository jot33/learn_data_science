{
 "cells": [
  {
   "cell_type": "markdown",
   "metadata": {},
   "source": [
    "# AMATH 301 - HW2\n",
    "University of Washington\\\n",
    "Due 10/14/2021"
   ]
  },
  {
   "cell_type": "code",
   "execution_count": 1,
   "metadata": {},
   "outputs": [],
   "source": [
    "import numpy as np\n",
    "import scipy.linalg as la"
   ]
  },
  {
   "cell_type": "markdown",
   "metadata": {},
   "source": [
    "## Problem 1"
   ]
  },
  {
   "cell_type": "markdown",
   "metadata": {},
   "source": [
    "Given equations expanded and solved:"
   ]
  },
  {
   "cell_type": "markdown",
   "metadata": {},
   "source": [
    "---\n",
    "**Equation 1:**\n",
    "$$\n",
    "R_6I_1 + R_1(I_1-I_2) + R_2(I_1 - I_3) = V_1\n",
    "$$\n",
    "Expanded:\n",
    "$$\n",
    "(R_1 + R_2 + R_6)I_1 - R_1I_2 - R_2I_3 = V_1\n",
    "$$\n",
    "Solved for $I_1$:\n",
    "$$\n",
    "I_1 = \\frac{V_1 + R_1I_2 + R_2I_3}{R_1 + R_2 + R_6}\n",
    "$$"
   ]
  },
  {
   "cell_type": "markdown",
   "metadata": {},
   "source": [
    "---\n",
    "**Equation 2:**\n",
    "$$\n",
    "R_3I_2 + R_4(I_2-I_3) + R_1(I_2 - I_1) = V_2\\\\\n",
    "$$\n",
    "Expanded:\n",
    "$$\n",
    "(R_1 + R_3 + R_4)I_2 - R_1I_1 - R_4I_3 = V_2\n",
    "$$\n",
    "\n",
    "Solved for $I_2$:\n",
    "$$\n",
    "I_2 = \\frac{V_2 + R_1I_1 + R_4I_3}{R_1 + R_3 + R_4}\n",
    "$$"
   ]
  },
  {
   "cell_type": "markdown",
   "metadata": {},
   "source": [
    "---\n",
    "**Equation 3:**\n",
    "$$\n",
    "R_5I_3 + R_4(I_3-I_2) + R_2(I_3 - I_1) = V_2\\\\\n",
    "$$\n",
    "Expanded:\n",
    "$$\n",
    "(R_2 + R_4 + R_5)I_3 - R_2I_1 - R_4I_2 = V_2\n",
    "$$\n",
    "\n",
    "Solved for $I_2$:\n",
    "$$\n",
    "I_3 = \\frac{V_2 + R_2I_1 + R_4I_2}{R_2 + R_4 + R_5}\n",
    "$$"
   ]
  },
  {
   "cell_type": "code",
   "execution_count": 16,
   "metadata": {},
   "outputs": [
    {
     "data": {
      "text/plain": [
       "array([[ 70, -20, -10],\n",
       "       [-20,  55, -10],\n",
       "       [-10, -10,  50]])"
      ]
     },
     "metadata": {},
     "output_type": "display_data"
    },
    {
     "data": {
      "text/plain": [
       "array([[1.],\n",
       "       [1.],\n",
       "       [1.]])"
      ]
     },
     "metadata": {},
     "output_type": "display_data"
    },
    {
     "data": {
      "text/plain": [
       "array([[40.],\n",
       "       [25.],\n",
       "       [30.]])"
      ]
     },
     "metadata": {},
     "output_type": "display_data"
    }
   ],
   "source": [
    "# Define resistance and voltage values\n",
    "dv = 2\n",
    "r1,r2,r3,r4,r5,r6,V1,v2,v3 = 20,10,25,10,30,40,range(0,100+dv,dv),0,200\n",
    "\n",
    "A = np.array([[r1+r2+r6, -r1, -r2],\n",
    "                [-r1, r1+r3+r4, -r4],\n",
    "                [-r2, -r4, r2+r4+r5]])\n",
    "display(A)\n",
    "B = np.ones((3,1))\n",
    "display(B)\n",
    "display(A@B)"
   ]
  },
  {
   "cell_type": "code",
   "execution_count": 3,
   "metadata": {},
   "outputs": [],
   "source": [
    "def LUSolve(P,L,U,b):\n",
    "    y = la.solve_triangular(L,P.T@b, lower=True)\n",
    "    x = la.solve_triangular(U,y)\n",
    "    return x"
   ]
  }
 ],
 "metadata": {
  "kernelspec": {
   "display_name": "Python 3 (ipykernel)",
   "language": "python",
   "name": "python3"
  },
  "language_info": {
   "codemirror_mode": {
    "name": "ipython",
    "version": 3
   },
   "file_extension": ".py",
   "mimetype": "text/x-python",
   "name": "python",
   "nbconvert_exporter": "python",
   "pygments_lexer": "ipython3",
   "version": "3.8.10"
  },
  "widgets": {
   "application/vnd.jupyter.widget-state+json": {
    "state": {},
    "version_major": 2,
    "version_minor": 0
   }
  }
 },
 "nbformat": 4,
 "nbformat_minor": 4
}
